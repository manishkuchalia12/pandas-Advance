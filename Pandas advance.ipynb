{
 "cells": [
  {
   "cell_type": "markdown",
   "id": "0e66e854-d330-476a-87eb-b0170054c322",
   "metadata": {},
   "source": [
    "Q1. List any five functions of the pandas library with execution.\n",
    "Ans:-read_csv() - Reading data from a CSV file:\r",
    "\r\n",
    "This function is used to read data from a CSV (Comma Separated Values) file and create a DataFrame."
   ]
  },
  {
   "cell_type": "code",
   "execution_count": null,
   "id": "37d14303-1e82-456d-95dd-74af8f8cd525",
   "metadata": {},
   "outputs": [],
   "source": [
    "import pandas as pd\n",
    "\n",
    "# Reading a CSV file and creating a DataFrame\n",
    "df = pd.read_csv('example.csv')\n",
    "\n",
    "# Displaying the DataFrame\n",
    "print(df)\n"
   ]
  },
  {
   "cell_type": "markdown",
   "id": "6c3330f1-5871-4c95-86eb-8b1d17723b78",
   "metadata": {},
   "source": [
    "head() - Displaying the first n rows of a DataFrame:\n",
    "\n",
    "The head() function is used to display the first n rows of a DataFrame."
   ]
  },
  {
   "cell_type": "code",
   "execution_count": null,
   "id": "b082c768-8a99-4416-825b-dcba0f4764cf",
   "metadata": {},
   "outputs": [],
   "source": [
    "# Displaying the first 3 rows of the DataFrame\n",
    "df_head = df.head(3)\n",
    "print(df_head)"
   ]
  },
  {
   "cell_type": "markdown",
   "id": "82eef53d-9976-424b-aa9c-1e9b7797622c",
   "metadata": {},
   "source": [
    "describe() - Descriptive statistics of a DataFrame:\n",
    "\n",
    "The describe() function generates descriptive statistics of a DataFrame, including count, mean, std (standard deviation), min, 25%, 50%, 75%, and max."
   ]
  },
  {
   "cell_type": "code",
   "execution_count": null,
   "id": "f8174d58-7585-4056-8885-409b7d181930",
   "metadata": {},
   "outputs": [],
   "source": [
    "# Displaying descriptive statistics of the DataFrame\n",
    "df_desc = df.describe()\n",
    "print(df_desc)\n"
   ]
  },
  {
   "cell_type": "code",
   "execution_count": null,
   "id": "2f1d7dc4-08e9-4809-a64c-21f8c837a2b2",
   "metadata": {},
   "outputs": [],
   "source": [
    "groupby() - Grouping data in a DataFrame:\n",
    "The groupby() function is used to group data based on some criteria and perform aggregate operations on each group."
   ]
  },
  {
   "cell_type": "code",
   "execution_count": null,
   "id": "790bac36-b88c-4231-bbd6-64d5acb5d548",
   "metadata": {},
   "outputs": [],
   "source": [
    "# Grouping data by the 'Category' column and calculating the mean for each group\n",
    "grouped_data = df.groupby('Category').mean()\n",
    "print(grouped_data)\n"
   ]
  },
  {
   "cell_type": "markdown",
   "id": "b0190fd1-8d89-40c2-a642-94313c0900eb",
   "metadata": {},
   "source": [
    "plot() - Plotting data from a DataFrame:\n",
    "\n",
    "The plot() function allows you to create various plots directly from a DataFrame."
   ]
  },
  {
   "cell_type": "code",
   "execution_count": null,
   "id": "7035c5ab-9ad6-48e7-84e2-c3a4fa41b56a",
   "metadata": {},
   "outputs": [],
   "source": [
    "# Plotting a bar chart of the 'Sales' column\n",
    "df.plot(x='Product', y='Sales', kind='bar', title='Sales by Product')\n",
    "plt.show()  # Assuming matplotlib.pyplot is imported as plt\n"
   ]
  },
  {
   "cell_type": "markdown",
   "id": "b0b52283-472f-495c-b3be-e787b3196539",
   "metadata": {},
   "source": [
    "Q2. Given a Pandas DataFrame df with columns 'A', 'B', and 'C', write a Python function to re-index the\r\n",
    "DataFrame with a new index that starts from 1 and increments by 2 for each row\n",
    "Ans:-You can use the set_index function in Pandas to achieve this. Here's a Python function that re-indexes a DataFrame with a new index starting from 1 and incrementing by 2 for each row:."
   ]
  },
  {
   "cell_type": "code",
   "execution_count": null,
   "id": "01b7e6f8-baae-4325-a59c-baba224a0966",
   "metadata": {},
   "outputs": [],
   "source": [
    "import pandas as pd\n",
    "\n",
    "def reindex_dataframe(df):\n",
    "    new_index = range(1, 2 * len(df) + 1, 2)\n",
    "    df_reindexed = df.set_index(pd.Index(new_index))\n",
    "    return df_reindexed\n",
    "\n",
    "# Example DataFrame\n",
    "data = {'A': [10, 20, 30],\n",
    "        'B': [40, 50, 60],\n",
    "        'C': [70, 80, 90]}\n",
    "\n",
    "df = pd.DataFrame(data)\n",
    "\n",
    "# Reindexing the DataFrame\n",
    "df_reindexed = reindex_dataframe(df)\n",
    "\n",
    "# Displaying the original and reindexed DataFrames\n",
    "print(\"Original DataFrame:\")\n",
    "print(df)\n",
    "\n",
    "print(\"\\nDataFrame after reindexing:\")\n",
    "print(df_reindexed)\n"
   ]
  },
  {
   "cell_type": "markdown",
   "id": "e05f306a-0871-4909-855a-12b190bf701b",
   "metadata": {},
   "source": [
    "Q3. You have a Pandas DataFrame df with a column named 'Values'. Write a Python function that\n",
    "iterates over the DataFrame and calculates the sum of the first three values in the 'Values' column. The\n",
    "function should print the sum to the console.\n",
    "For example, if the 'Values' column of df contains the values [10, 20, 30, 40, 50], your function should\n",
    "calculate and print the sum of the first three values, which is 60.\n",
    "Ans:-You can create a Python function that iterates over the DataFrame and calculates the sum of the first three values in the 'Values' column. Here's an example:"
   ]
  },
  {
   "cell_type": "code",
   "execution_count": null,
   "id": "1e5736df-d33d-4b60-9494-7c24b31f1226",
   "metadata": {},
   "outputs": [],
   "source": [
    "import pandas as pd\n",
    "\n",
    "def calculate_sum_of_first_three(df):\n",
    "    # Check if 'Values' column exists in the DataFrame\n",
    "    if 'Values' in df.columns:\n",
    "        # Extract the 'Values' column\n",
    "        values_column = df['Values']\n",
    "        \n",
    "        # Calculate the sum of the first three values\n",
    "        sum_of_first_three = values_column.head(3).sum()\n",
    "        \n",
    "        # Print the result\n",
    "        print(\"Sum of the first three values:\", sum_of_first_three)\n",
    "    else:\n",
    "        print(\"DataFrame does not contain a 'Values' column.\")\n",
    "\n",
    "# Example DataFrame\n",
    "data = {'Values': [10, 20, 30, 40, 50]}\n",
    "df = pd.DataFrame(data)\n",
    "\n",
    "# Call the function with the DataFrame\n",
    "calculate_sum_of_first_three(df)\n"
   ]
  },
  {
   "cell_type": "markdown",
   "id": "12167ed1-484a-4ce9-9fa6-00bc43e2c66c",
   "metadata": {},
   "source": [
    "Q4. Given a Pandas DataFrame df with a column 'Text', write a Python function to create a new column\n",
    "'Word_Count' that contains the number of words in each row of the 'Text' column.\n",
    "Ans:-You can create a Python function to count the number of words in each row of the 'Text' column and then add a new column 'Word_Count' to the DataFrame. Here's an example"
   ]
  },
  {
   "cell_type": "code",
   "execution_count": null,
   "id": "6e4b5202-2435-4999-93d6-39df2f5192af",
   "metadata": {},
   "outputs": [],
   "source": [
    "import pandas as pd\n",
    "\n",
    "def add_word_count_column(df):\n",
    "    # Check if 'Text' column exists in the DataFrame\n",
    "    if 'Text' in df.columns:\n",
    "        # Count the number of words in each row of the 'Text' column\n",
    "        df['Word_Count'] = df['Text'].apply(lambda x: len(str(x).split()))\n",
    "\n",
    "        # Display the updated DataFrame\n",
    "        return df\n",
    "    else:\n",
    "        print(\"DataFrame does not contain a 'Text' column.\")\n",
    "        return df\n",
    "\n",
    "# Example DataFrame\n",
    "data = {'Text': ['This is a sample text.', 'Count the words here.', 'Pandas is great!']}\n",
    "df = pd.DataFrame(data)\n",
    "\n",
    "# Call the function with the DataFrame\n",
    "df_with_word_count = add_word_count_column(df)\n",
    "\n",
    "# Display the DataFrame with the added 'Word_Count' column\n",
    "print(df_with_word_count)\n"
   ]
  },
  {
   "cell_type": "markdown",
   "id": "591607c9-feeb-4436-9880-849318dddea7",
   "metadata": {},
   "source": [
    "Q5. How are DataFrame.size() and DataFrame.shape() different?\n",
    "Ans:-DataFrame.size:\n",
    "\r\n",
    "The DataFrame.size attribute returns the total number of elements in the DataFrame.\r\n",
    "It is calculated by multiplying the number of rows by the number of columns.\r\n",
    "The result is a single integer representing the total number of elements in the DataFrame.\r\n",
    "It is equivalent to the product of the values returned by DataFrame.s\n",
    "DataFrame.shape:\n",
    "\r\n",
    "The DataFrame.shape attribute returns a tuple representing the dimensions of the DataFrame.\r\n",
    "The result is a tuple (number of rows, number of columns).\r\n",
    "It provides information about the structure of the DataFrame, indicating how many rows and columns it has.hape."
   ]
  },
  {
   "cell_type": "markdown",
   "id": "ab47c83d-549d-479c-9f6f-ffd7b979025f",
   "metadata": {},
   "source": [
    "Q6. Which function of pandas do we use to read an excel file?\n",
    " read an Excel file in Pandas, you can use the pd.read_excel() function. This function is specifically designed for reading data from Excel files. Here's an example:"
   ]
  },
  {
   "cell_type": "code",
   "execution_count": null,
   "id": "9d67335f-de2d-4327-8a98-f1e4966ee40f",
   "metadata": {},
   "outputs": [],
   "source": [
    "import pandas as pd\n",
    "\n",
    "# Reading an Excel file and creating a DataFrame\n",
    "df = pd.read_excel('example.xlsx')\n",
    "\n",
    "# Displaying the DataFrame\n",
    "print(df)\n"
   ]
  },
  {
   "cell_type": "markdown",
   "id": "ad66458c-0962-422b-9fca-4d7e281b4b6a",
   "metadata": {},
   "source": [
    "Q7. You have a Pandas DataFrame df that contains a column named 'Email' that contains email\n",
    "addresses in the format 'username@domain.com'. Write a Python function that creates a new column\n",
    "'Username' in df that contains only the username part of each email address.\n",
    "The username is the part of the email address that appears before the '@' symbol. For example, if the\n",
    "email address is 'john.doe@example.com', the 'Username' column should contain 'john.doe'. Your\n",
    "function should extract the username from each email address and store it in the new 'Username'\n",
    "column."
   ]
  },
  {
   "cell_type": "code",
   "execution_count": null,
   "id": "616b834d-6362-43ad-ab02-2b92d278fce0",
   "metadata": {},
   "outputs": [],
   "source": [
    "import pandas as pd\n",
    "\n",
    "def extract_username(df):\n",
    "    # Check if 'Email' column exists in the DataFrame\n",
    "    if 'Email' in df.columns:\n",
    "        # Extracting the username from each email address\n",
    "        df['Username'] = df['Email'].str.split('@').str[0]\n",
    "\n",
    "        # Display the updated DataFrame\n",
    "        print(\"DataFrame with Username column:\")\n",
    "        print(df)\n",
    "    else:\n",
    "        print(\"DataFrame does not contain an 'Email' column.\")\n",
    "\n",
    "# Example DataFrame\n",
    "data = {'Email': ['john.doe@example.com', 'jane.smith@example.com', 'bob@example.com']}\n",
    "df = pd.DataFrame(data)\n",
    "\n",
    "# Call the function with the DataFrame\n",
    "extract_username(df)\n"
   ]
  },
  {
   "cell_type": "markdown",
   "id": "76c7ab0c-92cb-476f-8c46-4010426a16eb",
   "metadata": {},
   "source": [
    "Q8. You have a Pandas DataFrame df with columns 'A', 'B', and 'C'. Write a Python function that selects\n",
    "all rows where the value in column 'A' is greater than 5 and the value in column 'B' is less than 10. The\n",
    "function should return a new DataFrame that contains only the selected rows.\n",
    "For example, if df contains the following values:\n",
    "A B C\n",
    "0 3 5 1\n",
    "1 8 2 7\n",
    "2 6 9 4\n",
    "3 2 3 5\n",
    "4 9 1 2\n",
    "\n",
    "Data Science Masters\n",
    "\n",
    "Your function should select the following rows: A B C\n",
    "1 8 2 7\n",
    "4 9 1 2\n",
    "The function should return a new DataFrame that contains only the selected rows."
   ]
  },
  {
   "cell_type": "code",
   "execution_count": null,
   "id": "f0d5d142-28d3-4a9f-9e30-11481a681289",
   "metadata": {},
   "outputs": [],
   "source": [
    "import pandas as pd\n",
    "\n",
    "def filter_dataframe(df):\n",
    "    # Selecting rows where 'A' > 5 and 'B' < 10\n",
    "    selected_rows = df[(df['A'] > 5) & (df['B'] < 10)]\n",
    "\n",
    "    # Displaying the selected rows\n",
    "    print(\"Selected Rows:\")\n",
    "    print(selected_rows)\n",
    "\n",
    "# Example DataFrame\n",
    "data = {'A': [3, 8, 6, 2, 9],\n",
    "        'B': [5, 2, 9, 3, 1],\n",
    "        'C': [1, 7, 4, 5, 2]}\n",
    "\n",
    "df = pd.DataFrame(data)\n",
    "\n",
    "# Call the function with the DataFrame\n",
    "filter_dataframe(df)\n"
   ]
  },
  {
   "cell_type": "markdown",
   "id": "778f613a-05f9-427d-9a8b-c756300915c9",
   "metadata": {},
   "source": [
    "Q9. Given a Pandas DataFrame df with a column 'Values', write a Python function to calculate the mean,\n",
    "median, and standard deviation of the values in the 'Values' column."
   ]
  },
  {
   "cell_type": "code",
   "execution_count": null,
   "id": "b478d3ec-b885-4e29-9a34-501782b29758",
   "metadata": {},
   "outputs": [],
   "source": [
    "import pandas as pd\n",
    "\n",
    "def calculate_statistics(df):\n",
    "    # Check if 'Values' column exists in the DataFrame\n",
    "    if 'Values' in df.columns:\n",
    "        # Calculate mean, median, and standard deviation\n",
    "        mean_value = df['Values'].mean()\n",
    "        median_value = df['Values'].median()\n",
    "        std_deviation = df['Values'].std()\n",
    "\n",
    "        # Display the calculated statistics\n",
    "        print(\"Mean:\", mean_value)\n",
    "        print(\"Median:\", median_value)\n",
    "        print(\"Standard Deviation:\", std_deviation)\n",
    "    else:\n",
    "        print(\"DataFrame does not contain a 'Values' column.\")\n",
    "\n",
    "# Example DataFrame\n",
    "data = {'Values': [10, 20, 30, 40, 50]}\n",
    "df = pd.DataFrame(data)\n",
    "\n",
    "# Call the function with the DataFrame\n",
    "calculate_statistics(df)\n"
   ]
  },
  {
   "cell_type": "markdown",
   "id": "d40aea33-ed6e-4f2c-b95b-bee14b965b11",
   "metadata": {},
   "source": [
    "Q10. Given a Pandas DataFrame df with a column 'Sales' and a column 'Date', write a Python function to\n",
    "create a new column 'MovingAverage' that contains the moving average of the sales for the past 7 days\n",
    "for each row in the DataFrame. The moving average should be calculated using a window of size 7 and\n",
    "should include the current day.\n",
    "Ans:-You can create a Python function to calculate the moving average of the 'Sales' column for the past 7 days using the rolling() function in Pandas. Here's an example:"
   ]
  },
  {
   "cell_type": "code",
   "execution_count": null,
   "id": "276646bf-ab16-47ee-85c9-943473253fc1",
   "metadata": {},
   "outputs": [],
   "source": [
    "import pandas as pd\n",
    "\n",
    "def calculate_moving_average(df):\n",
    "    # Check if 'Sales' and 'Date' columns exist in the DataFrame\n",
    "    if 'Sales' in df.columns and 'Date' in df.columns:\n",
    "        # Convert 'Date' column to datetime format\n",
    "        df['Date'] = pd.to_datetime(df['Date'])\n",
    "        \n",
    "        # Sort DataFrame by 'Date'\n",
    "        df.sort_values(by='Date', inplace=True)\n",
    "        \n",
    "        # Calculate the moving average with a window of size 7\n",
    "        df['MovingAverage'] = df['Sales'].rolling(window=7, min_periods=1).mean()\n",
    "\n",
    "        # Display the updated DataFrame\n",
    "        print(\"DataFrame with MovingAverage column:\")\n",
    "        print(df)\n",
    "    else:\n",
    "        print(\"DataFrame is missing either 'Sales' or 'Date' column.\")\n",
    "\n",
    "# Example DataFrame\n",
    "data = {'Date': ['2023-01-01', '2023-01-02', '2023-01-03', '2023-01-04', '2023-01-05', '2023-01-06', '2023-01-07'],\n",
    "        'Sales': [10, 15, 20, 25, 30, 35, 40]}\n",
    "\n",
    "df = pd.DataFrame(data)\n",
    "\n",
    "# Call the function with the DataFrame\n",
    "calculate_moving_average(df)\n"
   ]
  },
  {
   "cell_type": "markdown",
   "id": "6d11ccff-6f56-40ef-93ce-902a84a6dfc3",
   "metadata": {},
   "source": [
    "Q11. You have a Pandas DataFrame df with a column 'Date'. Write a Python function that creates a new\n",
    "column 'Weekday' in the DataFrame. The 'Weekday' column should contain the weekday name (e.g.\n",
    "Monday, Tuesday) corresponding to each date in the 'Date' column.\n",
    "For example, if df contains the following values:\n",
    "Date\n",
    "0 2023-01-01\n",
    "1 2023-01-02\n",
    "2 2023-01-03\n",
    "3 2023-01-04\n",
    "4 2023-01-05\n",
    "Your function should create the following DataFrame:\n",
    "\n",
    "Date Weekday\n",
    "0 2023-01-01 Sunday\n",
    "1 2023-01-02 Monday\n",
    "2 2023-01-03 Tuesday\n",
    "3 2023-01-04 Wednesday\n",
    "4 2023-01-05 Thursday\n",
    "The function should return the modified DataFrame."
   ]
  },
  {
   "cell_type": "code",
   "execution_count": null,
   "id": "43668a29-ad37-4baa-8c17-647175ce0a46",
   "metadata": {},
   "outputs": [],
   "source": [
    "import pandas as pd\n",
    "\n",
    "def add_weekday_column(df):\n",
    "    # Check if 'Date' column exists in the DataFrame\n",
    "    if 'Date' in df.columns:\n",
    "        # Convert 'Date' column to datetime format\n",
    "        df['Date'] = pd.to_datetime(df['Date'])\n",
    "        \n",
    "        # Add a new 'Weekday' column with weekday names\n",
    "        df['Weekday'] = df['Date'].dt.strftime('%A')\n",
    "\n",
    "        # Display the updated DataFrame\n",
    "        print(\"DataFrame with Weekday column:\")\n",
    "        print(df)\n",
    "        return df\n",
    "    else:\n",
    "        print(\"DataFrame does not contain a 'Date' column.\")\n",
    "        return df\n",
    "\n",
    "# Example DataFrame\n",
    "data = {'Date': ['2023-01-01', '2023-01-02', '2023-01-03', '2023-01-04', '2023-01-05']}\n",
    "df = pd.DataFrame(data)\n",
    "\n",
    "# Call the function with the DataFrame\n",
    "df_with_weekday = add_weekday_column(df)\n"
   ]
  },
  {
   "cell_type": "markdown",
   "id": "f00e4166-82f7-4b8d-a37b-4d18b262e88d",
   "metadata": {},
   "source": [
    "Q12. Given a Pandas DataFrame df with a column 'Date' that contains timestamps, write a Python\n",
    "function to select all rows where the date is between '2023-01-01' and '2023-01-31'."
   ]
  },
  {
   "cell_type": "code",
   "execution_count": null,
   "id": "12321389-2d54-4287-a1e0-4c3e677333e6",
   "metadata": {},
   "outputs": [],
   "source": [
    "import pandas as pd\n",
    "\n",
    "def filter_date_range(df):\n",
    "    # Check if 'Date' column exists in the DataFrame\n",
    "    if 'Date' in df.columns:\n",
    "        # Convert 'Date' column to datetime format\n",
    "        df['Date'] = pd.to_datetime(df['Date'])\n",
    "        \n",
    "        # Define the date range\n",
    "        start_date = '2023-01-01'\n",
    "        end_date = '2023-01-31'\n",
    "        \n",
    "        # Select rows within the date range\n",
    "        selected_rows = df[(df['Date'] >= start_date) & (df['Date'] <= end_date)]\n",
    "\n",
    "        # Display the selected rows\n",
    "        print(\"Selected Rows:\")\n",
    "        print(selected_rows)\n",
    "        return selected_rows\n",
    "    else:\n",
    "        print(\"DataFrame does not contain a 'Date' column.\")\n",
    "        return df\n",
    "\n",
    "# Example DataFrame\n",
    "data = {'Date': ['2023-01-01', '2023-01-15', '2023-01-25', '2023-02-05']}\n",
    "df = pd.DataFrame(data)\n",
    "\n",
    "# Call the function with the DataFrame\n",
    "selected_rows = filter_date_range(df)\n"
   ]
  },
  {
   "cell_type": "markdown",
   "id": "ca65f852-a6e9-4057-a023-f280a99fc680",
   "metadata": {},
   "source": [
    "Q13. To use the basic functions of pandas, what is the first and foremost necessary library that needs to\n",
    "be imported?"
   ]
  }
 ],
 "metadata": {
  "kernelspec": {
   "display_name": "Python 3 (ipykernel)",
   "language": "python",
   "name": "python3"
  },
  "language_info": {
   "codemirror_mode": {
    "name": "ipython",
    "version": 3
   },
   "file_extension": ".py",
   "mimetype": "text/x-python",
   "name": "python",
   "nbconvert_exporter": "python",
   "pygments_lexer": "ipython3",
   "version": "3.12.0"
  }
 },
 "nbformat": 4,
 "nbformat_minor": 5
}
